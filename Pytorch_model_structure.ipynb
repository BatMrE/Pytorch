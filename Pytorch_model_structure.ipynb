{
  "nbformat": 4,
  "nbformat_minor": 0,
  "metadata": {
    "accelerator": "GPU",
    "colab": {
      "name": "Basic Pytorch model.ipynb",
      "provenance": [],
      "collapsed_sections": []
    },
    "kernelspec": {
      "display_name": "Python 3",
      "name": "python3"
    }
  },
  "cells": [
    {
      "cell_type": "code",
      "metadata": {
        "id": "n_ZppV_7GGTI"
      },
      "source": [
        "import torch \n",
        "import torch.nn as nn\n",
        "from torch.nn import functional as F\n",
        "\n",
        "import pandas as pd\n",
        "import numpy as np"
      ],
      "execution_count": 1,
      "outputs": []
    },
    {
      "cell_type": "code",
      "metadata": {
        "id": "5AgRIP65GmQb"
      },
      "source": [
        "dataset = pd.read_csv('storepurchasedata_large.csv')"
      ],
      "execution_count": 2,
      "outputs": []
    },
    {
      "cell_type": "code",
      "metadata": {
        "colab": {
          "base_uri": "https://localhost:8080/",
          "height": 296
        },
        "id": "ZxqZZNMpy4tL",
        "outputId": "3c826efe-3b5e-4123-a12f-18f9a1b9439d"
      },
      "source": [
        "dataset.describe()"
      ],
      "execution_count": 3,
      "outputs": [
        {
          "output_type": "execute_result",
          "data": {
            "text/html": [
              "<div>\n",
              "<style scoped>\n",
              "    .dataframe tbody tr th:only-of-type {\n",
              "        vertical-align: middle;\n",
              "    }\n",
              "\n",
              "    .dataframe tbody tr th {\n",
              "        vertical-align: top;\n",
              "    }\n",
              "\n",
              "    .dataframe thead th {\n",
              "        text-align: right;\n",
              "    }\n",
              "</style>\n",
              "<table border=\"1\" class=\"dataframe\">\n",
              "  <thead>\n",
              "    <tr style=\"text-align: right;\">\n",
              "      <th></th>\n",
              "      <th>Age</th>\n",
              "      <th>Salary</th>\n",
              "      <th>Purchased</th>\n",
              "    </tr>\n",
              "  </thead>\n",
              "  <tbody>\n",
              "    <tr>\n",
              "      <th>count</th>\n",
              "      <td>1554.000000</td>\n",
              "      <td>1554.000000</td>\n",
              "      <td>1554.000000</td>\n",
              "    </tr>\n",
              "    <tr>\n",
              "      <th>mean</th>\n",
              "      <td>44.296010</td>\n",
              "      <td>57042.471042</td>\n",
              "      <td>0.694981</td>\n",
              "    </tr>\n",
              "    <tr>\n",
              "      <th>std</th>\n",
              "      <td>17.462458</td>\n",
              "      <td>21209.244800</td>\n",
              "      <td>0.460564</td>\n",
              "    </tr>\n",
              "    <tr>\n",
              "      <th>min</th>\n",
              "      <td>18.000000</td>\n",
              "      <td>20000.000000</td>\n",
              "      <td>0.000000</td>\n",
              "    </tr>\n",
              "    <tr>\n",
              "      <th>25%</th>\n",
              "      <td>27.000000</td>\n",
              "      <td>46000.000000</td>\n",
              "      <td>0.000000</td>\n",
              "    </tr>\n",
              "    <tr>\n",
              "      <th>50%</th>\n",
              "      <td>43.000000</td>\n",
              "      <td>60000.000000</td>\n",
              "      <td>1.000000</td>\n",
              "    </tr>\n",
              "    <tr>\n",
              "      <th>75%</th>\n",
              "      <td>62.000000</td>\n",
              "      <td>66000.000000</td>\n",
              "      <td>1.000000</td>\n",
              "    </tr>\n",
              "    <tr>\n",
              "      <th>max</th>\n",
              "      <td>69.000000</td>\n",
              "      <td>96000.000000</td>\n",
              "      <td>1.000000</td>\n",
              "    </tr>\n",
              "  </tbody>\n",
              "</table>\n",
              "</div>"
            ],
            "text/plain": [
              "               Age        Salary    Purchased\n",
              "count  1554.000000   1554.000000  1554.000000\n",
              "mean     44.296010  57042.471042     0.694981\n",
              "std      17.462458  21209.244800     0.460564\n",
              "min      18.000000  20000.000000     0.000000\n",
              "25%      27.000000  46000.000000     0.000000\n",
              "50%      43.000000  60000.000000     1.000000\n",
              "75%      62.000000  66000.000000     1.000000\n",
              "max      69.000000  96000.000000     1.000000"
            ]
          },
          "metadata": {
            "tags": []
          },
          "execution_count": 3
        }
      ]
    },
    {
      "cell_type": "code",
      "metadata": {
        "colab": {
          "base_uri": "https://localhost:8080/",
          "height": 203
        },
        "id": "zGonG7aYHwXI",
        "outputId": "d2af9623-2485-4303-8e1a-172336697743"
      },
      "source": [
        "dataset.head()"
      ],
      "execution_count": 4,
      "outputs": [
        {
          "output_type": "execute_result",
          "data": {
            "text/html": [
              "<div>\n",
              "<style scoped>\n",
              "    .dataframe tbody tr th:only-of-type {\n",
              "        vertical-align: middle;\n",
              "    }\n",
              "\n",
              "    .dataframe tbody tr th {\n",
              "        vertical-align: top;\n",
              "    }\n",
              "\n",
              "    .dataframe thead th {\n",
              "        text-align: right;\n",
              "    }\n",
              "</style>\n",
              "<table border=\"1\" class=\"dataframe\">\n",
              "  <thead>\n",
              "    <tr style=\"text-align: right;\">\n",
              "      <th></th>\n",
              "      <th>Age</th>\n",
              "      <th>Salary</th>\n",
              "      <th>Purchased</th>\n",
              "    </tr>\n",
              "  </thead>\n",
              "  <tbody>\n",
              "    <tr>\n",
              "      <th>0</th>\n",
              "      <td>18</td>\n",
              "      <td>20000</td>\n",
              "      <td>0</td>\n",
              "    </tr>\n",
              "    <tr>\n",
              "      <th>1</th>\n",
              "      <td>19</td>\n",
              "      <td>22000</td>\n",
              "      <td>0</td>\n",
              "    </tr>\n",
              "    <tr>\n",
              "      <th>2</th>\n",
              "      <td>20</td>\n",
              "      <td>24000</td>\n",
              "      <td>0</td>\n",
              "    </tr>\n",
              "    <tr>\n",
              "      <th>3</th>\n",
              "      <td>21</td>\n",
              "      <td>28000</td>\n",
              "      <td>0</td>\n",
              "    </tr>\n",
              "    <tr>\n",
              "      <th>4</th>\n",
              "      <td>22</td>\n",
              "      <td>60000</td>\n",
              "      <td>1</td>\n",
              "    </tr>\n",
              "  </tbody>\n",
              "</table>\n",
              "</div>"
            ],
            "text/plain": [
              "   Age  Salary  Purchased\n",
              "0   18   20000          0\n",
              "1   19   22000          0\n",
              "2   20   24000          0\n",
              "3   21   28000          0\n",
              "4   22   60000          1"
            ]
          },
          "metadata": {
            "tags": []
          },
          "execution_count": 4
        }
      ]
    },
    {
      "cell_type": "code",
      "metadata": {
        "id": "RAF2L1ZLuoJ3"
      },
      "source": [
        "X = dataset.iloc[:, :-1].values\n",
        "y = dataset.iloc[:,-1].values"
      ],
      "execution_count": 5,
      "outputs": []
    },
    {
      "cell_type": "code",
      "metadata": {
        "id": "hPqiWWXwu5WP"
      },
      "source": [
        "from sklearn.model_selection import train_test_split\n",
        "X_train, X_test, y_train, y_test = train_test_split(X, y, test_size =.20, random_state = 0)"
      ],
      "execution_count": 6,
      "outputs": []
    },
    {
      "cell_type": "code",
      "metadata": {
        "id": "11fHV4Q7vYJS"
      },
      "source": [
        "from sklearn.preprocessing import StandardScaler\n",
        "sc = StandardScaler()\n",
        "X_test = sc.fit_transform(X_test)\n",
        "X_train = sc.fit_transform(X_train)"
      ],
      "execution_count": 7,
      "outputs": []
    },
    {
      "cell_type": "markdown",
      "metadata": {
        "id": "3UQEapvWwlo2"
      },
      "source": [
        "Converting to datatype needed for Pytorch i.e **torch**"
      ]
    },
    {
      "cell_type": "code",
      "metadata": {
        "id": "6t4fF_fTvyJD"
      },
      "source": [
        "Xtrain_ = torch.from_numpy(X_train).float()\n",
        "Xtest_ = torch.from_numpy(X_test).float()"
      ],
      "execution_count": 8,
      "outputs": []
    },
    {
      "cell_type": "code",
      "metadata": {
        "id": "xeOhS4A6wI0W"
      },
      "source": [
        "ytrain_ = torch.from_numpy(y_train)\n",
        "ytest_ = torch.from_numpy(y_test)"
      ],
      "execution_count": 9,
      "outputs": []
    },
    {
      "cell_type": "code",
      "metadata": {
        "id": "r4BWdqUE0RSk"
      },
      "source": [
        "input_size = 2\n",
        "output_size = 2\n",
        "hidden_size = 10"
      ],
      "execution_count": 10,
      "outputs": []
    },
    {
      "cell_type": "code",
      "metadata": {
        "id": "wemnJh2y0XWw"
      },
      "source": [
        "class Net(nn.Module):\n",
        "  def __init__(self):\n",
        "    super(Net, self).__init__()\n",
        "    #3 fully connected layer\n",
        "    self.fc1 = torch.nn.Linear(input_size, hidden_size)\n",
        "    self.fc2 = torch.nn.Linear(hidden_size, hidden_size)\n",
        "    self.fc3 = torch.nn.Linear(hidden_size, output_size)\n",
        "\n",
        "  def forward(self, X):\n",
        "    X = torch.relu((self.fc1(X)))\n",
        "    X = torch.relu((self.fc2(X)))\n",
        "    X = self.fc3(X)\n",
        "\n",
        "    return F.log_softmax(X,dim = 1)\n",
        "\n"
      ],
      "execution_count": 11,
      "outputs": []
    },
    {
      "cell_type": "code",
      "metadata": {
        "id": "BLmsl1lN1SvP"
      },
      "source": [
        "model = Net()"
      ],
      "execution_count": 12,
      "outputs": []
    },
    {
      "cell_type": "code",
      "metadata": {
        "id": "Dg7Co-aWIzzJ"
      },
      "source": [
        "import torch.optim as optim\n",
        "optimizer = torch.optim.Adam(model.parameters(), lr = 0.01)\n",
        "loss_fn = nn.NLLLoss()"
      ],
      "execution_count": 13,
      "outputs": []
    },
    {
      "cell_type": "code",
      "metadata": {
        "id": "4ybXAQwJJLZP"
      },
      "source": [
        "epochs = 100"
      ],
      "execution_count": 14,
      "outputs": []
    },
    {
      "cell_type": "code",
      "metadata": {
        "colab": {
          "base_uri": "https://localhost:8080/"
        },
        "id": "aQXEd2Q2JO4n",
        "outputId": "3e93458d-35db-4d0e-dcfa-20795f29382b"
      },
      "source": [
        "for epoch in range(epochs):\n",
        "  optimizer.zero_grad()\n",
        "  Ypred = model(Xtrain_)\n",
        "  loss = loss_fn(Ypred, ytrain_)\n",
        "  loss.backward()\n",
        "  optimizer.step()\n",
        "  print('Epoch', epoch, 'loss', loss.item())"
      ],
      "execution_count": 15,
      "outputs": [
        {
          "output_type": "stream",
          "text": [
            "Epoch 0 loss 0.6867042779922485\n",
            "Epoch 1 loss 0.6480156779289246\n",
            "Epoch 2 loss 0.616389811038971\n",
            "Epoch 3 loss 0.5894403457641602\n",
            "Epoch 4 loss 0.5661240220069885\n",
            "Epoch 5 loss 0.5446780323982239\n",
            "Epoch 6 loss 0.5234147906303406\n",
            "Epoch 7 loss 0.5021082758903503\n",
            "Epoch 8 loss 0.48070237040519714\n",
            "Epoch 9 loss 0.45922768115997314\n",
            "Epoch 10 loss 0.43820422887802124\n",
            "Epoch 11 loss 0.4175567328929901\n",
            "Epoch 12 loss 0.3971956968307495\n",
            "Epoch 13 loss 0.3772589862346649\n",
            "Epoch 14 loss 0.357785701751709\n",
            "Epoch 15 loss 0.3388417065143585\n",
            "Epoch 16 loss 0.3205574154853821\n",
            "Epoch 17 loss 0.30301105976104736\n",
            "Epoch 18 loss 0.28630584478378296\n",
            "Epoch 19 loss 0.27047115564346313\n",
            "Epoch 20 loss 0.25560423731803894\n",
            "Epoch 21 loss 0.24176685512065887\n",
            "Epoch 22 loss 0.22890450060367584\n",
            "Epoch 23 loss 0.2170133888721466\n",
            "Epoch 24 loss 0.2061106115579605\n",
            "Epoch 25 loss 0.19599319994449615\n",
            "Epoch 26 loss 0.18678580224514008\n",
            "Epoch 27 loss 0.1783270686864853\n",
            "Epoch 28 loss 0.17062607407569885\n",
            "Epoch 29 loss 0.16373786330223083\n",
            "Epoch 30 loss 0.15760256350040436\n",
            "Epoch 31 loss 0.152290478348732\n",
            "Epoch 32 loss 0.14761140942573547\n",
            "Epoch 33 loss 0.14349742233753204\n",
            "Epoch 34 loss 0.13998381793498993\n",
            "Epoch 35 loss 0.1369413137435913\n",
            "Epoch 36 loss 0.134340301156044\n",
            "Epoch 37 loss 0.1321180760860443\n",
            "Epoch 38 loss 0.13024026155471802\n",
            "Epoch 39 loss 0.12868966162204742\n",
            "Epoch 40 loss 0.1273893266916275\n",
            "Epoch 41 loss 0.12624052166938782\n",
            "Epoch 42 loss 0.12518292665481567\n",
            "Epoch 43 loss 0.12417881190776825\n",
            "Epoch 44 loss 0.12320270389318466\n",
            "Epoch 45 loss 0.12224259972572327\n",
            "Epoch 46 loss 0.12127075344324112\n",
            "Epoch 47 loss 0.12062687426805496\n",
            "Epoch 48 loss 0.12008286267518997\n",
            "Epoch 49 loss 0.11950984597206116\n",
            "Epoch 50 loss 0.11894267797470093\n",
            "Epoch 51 loss 0.11839230358600616\n",
            "Epoch 52 loss 0.11786053329706192\n",
            "Epoch 53 loss 0.11735263466835022\n",
            "Epoch 54 loss 0.11687132716178894\n",
            "Epoch 55 loss 0.11640653759241104\n",
            "Epoch 56 loss 0.11594708263874054\n",
            "Epoch 57 loss 0.11547690629959106\n",
            "Epoch 58 loss 0.11498284339904785\n",
            "Epoch 59 loss 0.11447224766016006\n",
            "Epoch 60 loss 0.11394520103931427\n",
            "Epoch 61 loss 0.11366722732782364\n",
            "Epoch 62 loss 0.11331316828727722\n",
            "Epoch 63 loss 0.11291436105966568\n",
            "Epoch 64 loss 0.11248520016670227\n",
            "Epoch 65 loss 0.11203259229660034\n",
            "Epoch 66 loss 0.11160077899694443\n",
            "Epoch 67 loss 0.1115170493721962\n",
            "Epoch 68 loss 0.11139983683824539\n",
            "Epoch 69 loss 0.1112150251865387\n",
            "Epoch 70 loss 0.11099331825971603\n",
            "Epoch 71 loss 0.11089210212230682\n",
            "Epoch 72 loss 0.11076214909553528\n",
            "Epoch 73 loss 0.11057039350271225\n",
            "Epoch 74 loss 0.1103186383843422\n",
            "Epoch 75 loss 0.11018640547990799\n",
            "Epoch 76 loss 0.1100713312625885\n",
            "Epoch 77 loss 0.10994550585746765\n",
            "Epoch 78 loss 0.10981352627277374\n",
            "Epoch 79 loss 0.10967414826154709\n",
            "Epoch 80 loss 0.10954511910676956\n",
            "Epoch 81 loss 0.10942267626523972\n",
            "Epoch 82 loss 0.10940869897603989\n",
            "Epoch 83 loss 0.1094147339463234\n",
            "Epoch 84 loss 0.10930725187063217\n",
            "Epoch 85 loss 0.10915090888738632\n",
            "Epoch 86 loss 0.10910840332508087\n",
            "Epoch 87 loss 0.10905341058969498\n",
            "Epoch 88 loss 0.10898691415786743\n",
            "Epoch 89 loss 0.10891025513410568\n",
            "Epoch 90 loss 0.10884439200162888\n",
            "Epoch 91 loss 0.10878074169158936\n",
            "Epoch 92 loss 0.10875746607780457\n",
            "Epoch 93 loss 0.10871443152427673\n",
            "Epoch 94 loss 0.10865749418735504\n",
            "Epoch 95 loss 0.10858382284641266\n",
            "Epoch 96 loss 0.1084950864315033\n",
            "Epoch 97 loss 0.10848746448755264\n",
            "Epoch 98 loss 0.1084372028708458\n",
            "Epoch 99 loss 0.10832902044057846\n"
          ],
          "name": "stdout"
        }
      ]
    },
    {
      "cell_type": "code",
      "metadata": {
        "colab": {
          "base_uri": "https://localhost:8080/"
        },
        "id": "ZNlm8gMYWxUZ",
        "outputId": "74085822-de3d-4dff-baf7-f291c6f159a6"
      },
      "source": [
        "list(model.parameters())"
      ],
      "execution_count": 16,
      "outputs": [
        {
          "output_type": "execute_result",
          "data": {
            "text/plain": [
              "[Parameter containing:\n",
              " tensor([[-0.4224,  0.3579],\n",
              "         [-0.0992, -0.8886],\n",
              "         [ 0.1796,  1.2520],\n",
              "         [ 0.3924,  0.3424],\n",
              "         [-0.1295, -0.4419],\n",
              "         [ 1.0906,  0.7044],\n",
              "         [ 0.0664, -0.8690],\n",
              "         [ 0.0292,  0.2105],\n",
              "         [ 0.9715,  0.1018],\n",
              "         [ 1.0927, -0.2861]], requires_grad=True), Parameter containing:\n",
              " tensor([-0.7494,  0.5765,  0.9352,  0.4908,  0.3080,  0.5467,  0.6685, -0.3529,\n",
              "          0.3501,  0.0024], requires_grad=True), Parameter containing:\n",
              " tensor([[-0.2662,  0.4958, -0.1442, -0.4202,  0.3160,  0.0021,  0.3189, -0.3623,\n",
              "          -0.1188, -0.9189],\n",
              "         [-0.2555, -0.1110, -0.1580, -0.1602,  0.0535,  0.1910, -0.3473, -0.0023,\n",
              "          -0.3521,  0.0645],\n",
              "         [-0.0702,  0.2631, -0.2612, -0.0656,  0.3957, -0.7003,  0.3754, -0.3593,\n",
              "          -0.3802, -0.8859],\n",
              "         [-0.0034,  0.1825, -0.1902, -0.1264,  0.1560, -0.3316,  0.0691,  0.0792,\n",
              "           0.0295, -0.3608],\n",
              "         [-0.2876,  0.3681, -0.4080, -0.0332,  0.3151, -0.7412,  0.0920, -0.3215,\n",
              "          -0.4044, -0.6775],\n",
              "         [ 0.0614, -0.2357,  0.6119,  0.4870,  0.1908,  0.0639,  0.0875,  0.0477,\n",
              "           0.5381,  0.6211],\n",
              "         [-0.0955, -0.1015,  0.1664,  0.5747,  0.0396,  0.5426, -0.0394, -0.0806,\n",
              "           0.3673,  0.6596],\n",
              "         [ 0.0425,  0.4981, -0.5495,  0.0385,  0.4288, -0.1923,  0.5473, -0.3876,\n",
              "          -0.6295, -0.8275],\n",
              "         [ 0.2025, -0.1676,  0.2583,  0.5013, -0.0206,  0.5475, -0.1061,  0.1009,\n",
              "           0.4923,  0.5923],\n",
              "         [ 0.1270, -0.3363, -0.2748, -0.0592, -0.0707,  0.1425,  0.0141,  0.0223,\n",
              "           0.1159,  0.1214]], requires_grad=True), Parameter containing:\n",
              " tensor([-0.0203, -0.1984,  0.2595,  0.2204,  0.4450,  0.4608,  0.5217,  0.2310,\n",
              "          0.6309, -0.2410], requires_grad=True), Parameter containing:\n",
              " tensor([[ 0.2961,  0.0166,  0.5311,  0.2120,  0.3337, -0.7077, -0.6900,  0.3563,\n",
              "          -0.3455, -0.0827],\n",
              "         [-0.5800, -0.1016, -0.4177, -0.1444, -0.4864,  0.2411,  0.4085, -0.6098,\n",
              "           0.6744, -0.1545]], requires_grad=True), Parameter containing:\n",
              " tensor([-0.1699,  0.5145], requires_grad=True)]"
            ]
          },
          "metadata": {
            "tags": []
          },
          "execution_count": 16
        }
      ]
    },
    {
      "cell_type": "code",
      "metadata": {
        "colab": {
          "base_uri": "https://localhost:8080/"
        },
        "id": "cirFUmAnaAzu",
        "outputId": "02aa4253-3dc2-4871-9a74-cabc66e4c1be"
      },
      "source": [
        "torch.from_numpy(sc.transform(np.array([[40,20000]]))).float()"
      ],
      "execution_count": 17,
      "outputs": [
        {
          "output_type": "execute_result",
          "data": {
            "text/plain": [
              "tensor([[-0.2650, -1.7622]])"
            ]
          },
          "metadata": {
            "tags": []
          },
          "execution_count": 17
        }
      ]
    },
    {
      "cell_type": "code",
      "metadata": {
        "colab": {
          "base_uri": "https://localhost:8080/"
        },
        "id": "wDVsys_OvL3Q",
        "outputId": "5f0fab04-6d47-40f7-cc93-b1553944a910"
      },
      "source": [
        "y_cust_20_40000 = model(torch.from_numpy(sc.transform(np.array([[40,20000]]))).float())\n",
        "y_cust_20_40000"
      ],
      "execution_count": 18,
      "outputs": [
        {
          "output_type": "execute_result",
          "data": {
            "text/plain": [
              "tensor([[-2.2169e-03, -6.1128e+00]], grad_fn=<LogSoftmaxBackward>)"
            ]
          },
          "metadata": {
            "tags": []
          },
          "execution_count": 18
        }
      ]
    },
    {
      "cell_type": "code",
      "metadata": {
        "colab": {
          "base_uri": "https://localhost:8080/"
        },
        "id": "omOPeO9q0CP5",
        "outputId": "1f1101d5-60c8-4267-c61a-246a20d70061"
      },
      "source": [
        "_, predicted_20_40000 = torch.max(y_cust_20_40000.data, -1)\n",
        "predicted_20_40000"
      ],
      "execution_count": 19,
      "outputs": [
        {
          "output_type": "execute_result",
          "data": {
            "text/plain": [
              "tensor([0])"
            ]
          },
          "metadata": {
            "tags": []
          },
          "execution_count": 19
        }
      ]
    },
    {
      "cell_type": "code",
      "metadata": {
        "id": "oJFJXKQM0g2m"
      },
      "source": [
        "torch.save(model, 'customer_buy.pt')"
      ],
      "execution_count": 20,
      "outputs": []
    },
    {
      "cell_type": "code",
      "metadata": {
        "colab": {
          "base_uri": "https://localhost:8080/"
        },
        "id": "DW_YYEiv0n9x",
        "outputId": "6953a95b-ff47-410d-bd71-9a736a6dd8b5"
      },
      "source": [
        "!ls"
      ],
      "execution_count": 21,
      "outputs": [
        {
          "output_type": "stream",
          "text": [
            "customer_buy.pt  sample_data  storepurchasedata_large.csv\n"
          ],
          "name": "stdout"
        }
      ]
    },
    {
      "cell_type": "code",
      "metadata": {
        "id": "4yy4l5KM0qng"
      },
      "source": [
        "restored_model = torch.load('customer_buy.pt')"
      ],
      "execution_count": 22,
      "outputs": []
    },
    {
      "cell_type": "code",
      "metadata": {
        "colab": {
          "base_uri": "https://localhost:8080/"
        },
        "id": "wd2bJVv501EX",
        "outputId": "1f5166fa-59d0-428f-ae6c-da98597e9e55"
      },
      "source": [
        "torch.save(model.state_dict(), 'customer_buy_state_dict')"
      ],
      "execution_count": 23,
      "outputs": [
        {
          "output_type": "execute_result",
          "data": {
            "text/plain": [
              "OrderedDict([('fc1.weight', tensor([[-0.4224,  0.3579],\n",
              "                      [-0.0992, -0.8886],\n",
              "                      [ 0.1796,  1.2520],\n",
              "                      [ 0.3924,  0.3424],\n",
              "                      [-0.1295, -0.4419],\n",
              "                      [ 1.0906,  0.7044],\n",
              "                      [ 0.0664, -0.8690],\n",
              "                      [ 0.0292,  0.2105],\n",
              "                      [ 0.9715,  0.1018],\n",
              "                      [ 1.0927, -0.2861]])),\n",
              "             ('fc1.bias',\n",
              "              tensor([-0.7494,  0.5765,  0.9352,  0.4908,  0.3080,  0.5467,  0.6685, -0.3529,\n",
              "                       0.3501,  0.0024])),\n",
              "             ('fc2.weight',\n",
              "              tensor([[-0.2662,  0.4958, -0.1442, -0.4202,  0.3160,  0.0021,  0.3189, -0.3623,\n",
              "                       -0.1188, -0.9189],\n",
              "                      [-0.2555, -0.1110, -0.1580, -0.1602,  0.0535,  0.1910, -0.3473, -0.0023,\n",
              "                       -0.3521,  0.0645],\n",
              "                      [-0.0702,  0.2631, -0.2612, -0.0656,  0.3957, -0.7003,  0.3754, -0.3593,\n",
              "                       -0.3802, -0.8859],\n",
              "                      [-0.0034,  0.1825, -0.1902, -0.1264,  0.1560, -0.3316,  0.0691,  0.0792,\n",
              "                        0.0295, -0.3608],\n",
              "                      [-0.2876,  0.3681, -0.4080, -0.0332,  0.3151, -0.7412,  0.0920, -0.3215,\n",
              "                       -0.4044, -0.6775],\n",
              "                      [ 0.0614, -0.2357,  0.6119,  0.4870,  0.1908,  0.0639,  0.0875,  0.0477,\n",
              "                        0.5381,  0.6211],\n",
              "                      [-0.0955, -0.1015,  0.1664,  0.5747,  0.0396,  0.5426, -0.0394, -0.0806,\n",
              "                        0.3673,  0.6596],\n",
              "                      [ 0.0425,  0.4981, -0.5495,  0.0385,  0.4288, -0.1923,  0.5473, -0.3876,\n",
              "                       -0.6295, -0.8275],\n",
              "                      [ 0.2025, -0.1676,  0.2583,  0.5013, -0.0206,  0.5475, -0.1061,  0.1009,\n",
              "                        0.4923,  0.5923],\n",
              "                      [ 0.1270, -0.3363, -0.2748, -0.0592, -0.0707,  0.1425,  0.0141,  0.0223,\n",
              "                        0.1159,  0.1214]])),\n",
              "             ('fc2.bias',\n",
              "              tensor([-0.0203, -0.1984,  0.2595,  0.2204,  0.4450,  0.4608,  0.5217,  0.2310,\n",
              "                       0.6309, -0.2410])),\n",
              "             ('fc3.weight',\n",
              "              tensor([[ 0.2961,  0.0166,  0.5311,  0.2120,  0.3337, -0.7077, -0.6900,  0.3563,\n",
              "                       -0.3455, -0.0827],\n",
              "                      [-0.5800, -0.1016, -0.4177, -0.1444, -0.4864,  0.2411,  0.4085, -0.6098,\n",
              "                        0.6744, -0.1545]])),\n",
              "             ('fc3.bias', tensor([-0.1699,  0.5145]))])"
            ]
          },
          "metadata": {
            "tags": []
          },
          "execution_count": 23
        }
      ]
    }
  ]
}